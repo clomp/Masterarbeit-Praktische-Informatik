{
 "cells": [
  {
   "cell_type": "code",
   "execution_count": 491,
   "id": "b7ae1ab0",
   "metadata": {},
   "outputs": [],
   "source": [
    "import numpy as np\n",
    "from sklearn.model_selection import train_test_split\n",
    "import csv"
   ]
  },
  {
   "cell_type": "code",
   "execution_count": 585,
   "id": "8a2b6a1e",
   "metadata": {},
   "outputs": [],
   "source": [
    "class ELM_model:\n",
    "    \n",
    "    def __init__(self,data,labels):\n",
    "        self.data = data.copy()\n",
    "        self.labels = labels.copy()\n",
    "        self.DataRange = self.obtainRange(self.data)\n",
    "        self.normalizeData(self.data)\n",
    "        self.LabelsRange = self.obtainRange(self.labels)\n",
    "        self.normalizeLabels(self.labels)        \n",
    "        self.model_created=False    \n",
    "    \n",
    "    def obtainRange(self, A): #obtain a list of  lowest and highest entries for all comuns\n",
    "        _,m = A.shape\n",
    "        L=[(min(A[:,i:i+1]), max(A[:,i:i+1])) for i in range(m)]\n",
    "        return(L)\n",
    "    \n",
    "    def normalizeData(self,A):\n",
    "        self.__normalizeEntries(A,self.DataRange)\n",
    "    \n",
    "    def normalizeLabels(self,A):\n",
    "        self.__normalizeEntries(A,self.LabelsRange)\n",
    "        \n",
    "    def __normalizeEntries(self,A,Range):\n",
    "        _,m=A.shape\n",
    "        for i in range(m):\n",
    "            min_value, max_value = Range[i]\n",
    "            A[:,i:i+1]=(A[:,i:i+1]-min_value)/(max_value-min_value)            \n",
    "\n",
    "            \n",
    "            \n",
    "    def CreateModel(self,neurons,activation):\n",
    "        N, n = self.data.shape\n",
    "        W=CreateRandomMatrix(n,neurons)\n",
    "        b=CreateRandomMatrix(1,neurons)\n",
    "        try:\n",
    "            A=X*W+b\n",
    "            H=activation(A)\n",
    "        except:\n",
    "            print(\"Error: Building H: shape of matrices W,X,b are incomparable.\\n X:\",X.shape,\"\\n W:\",W.shape,\"\\n b:\",b.shape)\n",
    "            return()        \n",
    "        self.beta=MoorePenrose(H)*T\n",
    "        self.W=W\n",
    "        self.b=b\n",
    "        self.activation=activation\n",
    "        self.model_created=True\n",
    "        print(\"Model created.\")\n",
    "\n",
    "    def predict(self,x):\n",
    "        if(self.model_created):\n",
    "            return(self.activation(x*self.W+self.b)*self.beta)           \n",
    "        else:\n",
    "            print(\"Model has not been created yet!\")\n",
    "\n",
    "    def MoorePenrose(self,A):\n",
    "        _,m=np.shape(A)\n",
    "        B=(A.transpose())*A\n",
    "        try:        \n",
    "            C=np.linalg.inv(B)               \n",
    "        except:\n",
    "            print(\"Error: columns of matrix are not linearly independent!\")\n",
    "            print(\"Matrix A\\n\",A)\n",
    "            C=np.zeros((m,m))\n",
    "        return(C*(A.transpose()))\n",
    "\n",
    "\n",
    "    def ReLu(self,x):\n",
    "        return(max(x,0))\n",
    "\n",
    "    def sigmoid(self,z):\n",
    "        return 1/(1 + np.exp(-z))\n",
    "\n",
    "    def CreateRandomMatrix(self,N,Nt,center=0.5,scale=1):\n",
    "        A=np.random.rand(N,Nt)\n",
    "        return(np.matrix((A-center)*scale))\n",
    "   \n",
    "    def denormalize(self):\n",
    "        data=self.data.copy()\n",
    "        self.denormalize(data,self.MinMax_data)\n",
    "        labels=self.labels.copy()\n",
    "        self.denormalize(labels,self.MinMax_labels)\n",
    "        return((data,labels))\n",
    "    \n",
    "    def __denormalize(self,A,MinMax):        \n",
    "        _,m = A.shape        \n",
    "        for i in range(m):\n",
    "            L=A[:,i:i+1]\n",
    "            min_value, max_value = MinMax[i]            \n",
    "            A[:,i:i+1] = L*(max_value-min_value)+min_value        \n",
    "        return(A)"
   ]
  },
  {
   "cell_type": "code",
   "execution_count": 586,
   "id": "deebf009",
   "metadata": {},
   "outputs": [],
   "source": [
    "dataframe = np.loadtxt(\"modeldata.csv\",delimiter=\",\")\n",
    "\n",
    "dataframe=dataframe[:100]\n",
    "\n",
    "data = dataframe[:,:9]\n",
    "labels= dataframe[:,9:]\n",
    "\n",
    "data_train, data_test, labels_train, labels_test = train_test_split(data, labels, test_size=0.20, random_state=42)\n"
   ]
  },
  {
   "cell_type": "code",
   "execution_count": 587,
   "id": "e1a9724a",
   "metadata": {},
   "outputs": [],
   "source": [
    "model=ELM_model(data_train,labels_train)"
   ]
  },
  {
   "cell_type": "code",
   "execution_count": 591,
   "id": "52ef769d",
   "metadata": {},
   "outputs": [
    {
     "name": "stdout",
     "output_type": "stream",
     "text": [
      "Model created.\n"
     ]
    },
    {
     "name": "stderr",
     "output_type": "stream",
     "text": [
      "C:\\Users\\lomp\\AppData\\Local\\Temp\\ipykernel_8340\\3749121611.py:27: RuntimeWarning: overflow encountered in exp\n",
      "  return 1/(1 + np.exp(-z))\n"
     ]
    }
   ],
   "source": [
    "model.CreateModel(10,sigmoid)"
   ]
  },
  {
   "cell_type": "code",
   "execution_count": 592,
   "id": "5c60790d",
   "metadata": {},
   "outputs": [],
   "source": [
    "model.normalizeData(data_test)\n"
   ]
  },
  {
   "cell_type": "code",
   "execution_count": 593,
   "id": "2c872d3f",
   "metadata": {},
   "outputs": [],
   "source": [
    "model.normalizeLabels(labels_test)"
   ]
  },
  {
   "cell_type": "code",
   "execution_count": 596,
   "id": "f5d201b7",
   "metadata": {},
   "outputs": [
    {
     "name": "stderr",
     "output_type": "stream",
     "text": [
      "C:\\Users\\lomp\\AppData\\Local\\Temp\\ipykernel_8340\\3749121611.py:27: RuntimeWarning: overflow encountered in exp\n",
      "  return 1/(1 + np.exp(-z))\n"
     ]
    },
    {
     "data": {
      "text/plain": [
       "matrix([[ 0.51110856,  0.1749207 , -0.06931487,  0.05704327,  0.33183041,\n",
       "         -0.71668028,  0.30557296],\n",
       "        [-1.13267742, -0.27089416, -0.4165087 ,  0.2124858 ,  0.36967822,\n",
       "          0.40894246, -0.54134973],\n",
       "        [ 0.59389672,  0.61919273, -0.07682562, -0.26336432, -0.23167996,\n",
       "          0.32233473, -0.45322298],\n",
       "        [-0.312321  ,  0.31672149, -0.48931488,  0.2411232 , -0.46082893,\n",
       "          0.94662923,  0.02024641],\n",
       "        [-0.57343952, -0.42851399, -0.26928974, -0.12133197, -0.53001679,\n",
       "         -0.41441094,  0.27876369],\n",
       "        [-1.5179408 , -0.89233553,  0.17282454,  0.33076981,  0.38026802,\n",
       "          0.36823167, -0.95651153],\n",
       "        [ 0.50854965,  0.74585141, -0.49995553, -0.12337619,  0.35286576,\n",
       "         -0.4806087 ,  0.57869864],\n",
       "        [-0.76751328,  0.07409273,  0.06129438, -0.39236432, -0.29002995,\n",
       "          0.47299473,  0.15181702],\n",
       "        [-1.055281  , -0.3487785 , -0.15991488, -0.2206368 , -0.66795894,\n",
       "          0.12025224,  0.07457341],\n",
       "        [ 0.39340878,  0.61198858,  0.29876719, -0.44629457, -0.4016689 ,\n",
       "          0.02782639, -0.26136996],\n",
       "        [ 0.87186672,  1.15567273, -0.34722562, -0.20449432,  0.43664004,\n",
       "         -0.58642527,  0.44138702],\n",
       "        [ 0.16640485,  0.34649988,  0.14900757, -0.24854689, -0.50387325,\n",
       "         -0.23712434, -0.53093806],\n",
       "        [-0.20701328, -0.44420727, -0.22032562, -0.04447432,  0.75864004,\n",
       "         -0.54520527,  0.40899702],\n",
       "        [-1.25301328, -0.46590727, -0.15612562, -0.19303432, -0.58678996,\n",
       "          0.07206673,  0.16317902],\n",
       "        [-0.7696408 , -0.81723553, -0.17956546,  0.27716181,  0.54781802,\n",
       "          0.19187767,  0.57729847],\n",
       "        [ 0.8195592 ,  0.45276447,  0.10650454, -0.15977919,  0.27868802,\n",
       "         -0.25836833,  0.48161847],\n",
       "        [-0.33032328, -1.07920727,  0.12511438,  0.58685568,  0.41738004,\n",
       "          0.90660473, -0.43343298],\n",
       "        [-0.77401328,  0.02929273, -0.70382562,  0.23090568,  0.91665004,\n",
       "          0.72491473, -0.24153298],\n",
       "        [ 0.41634573,  0.34070262, -0.07496521, -0.16631869,  0.27836816,\n",
       "         -0.320664  ,  0.58683201],\n",
       "        [-1.6140408 , -0.38313553, -0.20986546, -0.29638919, -0.30617198,\n",
       "          0.79619167, -0.65300153]])"
      ]
     },
     "execution_count": 596,
     "metadata": {},
     "output_type": "execute_result"
    }
   ],
   "source": [
    "model.predict(data_test)-labels_test"
   ]
  },
  {
   "cell_type": "code",
   "execution_count": 539,
   "id": "71a89c62",
   "metadata": {},
   "outputs": [],
   "source": [
    "W[0,1]=78\n",
    "W[1,2]=-1"
   ]
  },
  {
   "cell_type": "code",
   "execution_count": 545,
   "id": "b2801e04",
   "metadata": {},
   "outputs": [
    {
     "data": {
      "text/plain": [
       "[(matrix([[0.]]), matrix([[1.]])),\n",
       " (matrix([[0.5]]), matrix([[78.]])),\n",
       " (matrix([[-1.]]), matrix([[1.]]))]"
      ]
     },
     "execution_count": 545,
     "metadata": {},
     "output_type": "execute_result"
    }
   ],
   "source": [
    "[(min(W[:,i:i+1]), max(W[:,i:i+1])) for i in range(3)]"
   ]
  },
  {
   "cell_type": "code",
   "execution_count": 65,
   "id": "4330b53b",
   "metadata": {},
   "outputs": [
    {
     "data": {
      "text/plain": [
       "array([[9., 2., 0.],\n",
       "       [0., 3., 1.]])"
      ]
     },
     "execution_count": 65,
     "metadata": {},
     "output_type": "execute_result"
    }
   ],
   "source": [
    "H"
   ]
  },
  {
   "cell_type": "code",
   "execution_count": 66,
   "id": "b4d0c34e",
   "metadata": {},
   "outputs": [
    {
     "data": {
      "text/plain": [
       "array([[0.99999997, 0.96402758, 0.        ],\n",
       "       [0.        , 0.99505475, 0.76159416]])"
      ]
     },
     "execution_count": 66,
     "metadata": {},
     "output_type": "execute_result"
    }
   ],
   "source": [
    "np.tanh(H)"
   ]
  },
  {
   "cell_type": "code",
   "execution_count": 416,
   "id": "b7fb6382",
   "metadata": {},
   "outputs": [],
   "source": []
  },
  {
   "cell_type": "code",
   "execution_count": 417,
   "id": "eb447124",
   "metadata": {},
   "outputs": [],
   "source": [
    "model=ELModel(dataframe)"
   ]
  },
  {
   "cell_type": "code",
   "execution_count": 418,
   "id": "38c9b2d3",
   "metadata": {},
   "outputs": [
    {
     "data": {
      "text/plain": [
       "array([[ 1.2636   , -0.040305 , -0.21906  , ...,  0.55241  ,  0.13507  ,\n",
       "         0.23804  ],\n",
       "       [ 1.4146   ,  0.66479  , -0.52256  , ...,  0.59662  , -0.7609   ,\n",
       "        -0.033924 ],\n",
       "       [ 0.12329  ,  0.59014  , -0.37037  , ...,  0.83704  ,  0.25389  ,\n",
       "        -0.4062   ],\n",
       "       ...,\n",
       "       [ 1.4064   , -0.1268   , -0.041386 , ...,  0.0068805,  0.13012  ,\n",
       "         0.12539  ],\n",
       "       [ 0.68215  ,  0.037748 , -0.45814  , ...,  0.71761  , -0.51773  ,\n",
       "         0.064303 ],\n",
       "       [ 0.69097  ,  0.46172  , -0.48339  , ..., -0.68968  ,  0.19071  ,\n",
       "        -0.66527  ]])"
      ]
     },
     "execution_count": 418,
     "metadata": {},
     "output_type": "execute_result"
    }
   ],
   "source": [
    "model.denormalize()"
   ]
  },
  {
   "cell_type": "code",
   "execution_count": 419,
   "id": "3fe6b5d5",
   "metadata": {},
   "outputs": [
    {
     "data": {
      "text/plain": [
       "array([[0.81485838, 0.15379722, 0.4361946 , ..., 0.77654536, 0.56751874,\n",
       "        0.61948114],\n",
       "       [0.9059512 , 0.96194755, 0.00141822, ..., 0.79870387, 0.11914365,\n",
       "        0.48306397],\n",
       "       [0.1269508 , 0.87638685, 0.21943672, ..., 0.91920488, 0.62698047,\n",
       "        0.29633029],\n",
       "       ...,\n",
       "       [0.90100443, 0.05466028, 0.69072   , ..., 0.50312029, 0.56504159,\n",
       "        0.56297589],\n",
       "       [0.46409073, 0.2432583 , 0.09370255, ..., 0.85934532, 0.24083453,\n",
       "        0.53233465],\n",
       "       [0.46941152, 0.72919723, 0.05753087, ..., 0.1539969 , 0.59536297,\n",
       "        0.16638075]])"
      ]
     },
     "execution_count": 419,
     "metadata": {},
     "output_type": "execute_result"
    }
   ],
   "source": [
    "model.dataframe"
   ]
  },
  {
   "cell_type": "code",
   "execution_count": null,
   "id": "cdc453a6",
   "metadata": {},
   "outputs": [],
   "source": []
  }
 ],
 "metadata": {
  "kernelspec": {
   "display_name": "Python 3 (ipykernel)",
   "language": "python",
   "name": "python3"
  },
  "language_info": {
   "codemirror_mode": {
    "name": "ipython",
    "version": 3
   },
   "file_extension": ".py",
   "mimetype": "text/x-python",
   "name": "python",
   "nbconvert_exporter": "python",
   "pygments_lexer": "ipython3",
   "version": "3.9.12"
  }
 },
 "nbformat": 4,
 "nbformat_minor": 5
}
